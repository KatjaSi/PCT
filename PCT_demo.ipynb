{
  "nbformat": 4,
  "nbformat_minor": 0,
  "metadata": {
    "colab": {
      "provenance": [],
      "authorship_tag": "ABX9TyP7bOfyP4LzhCivC9vUJgFV",
      "include_colab_link": true
    },
    "kernelspec": {
      "name": "python3",
      "display_name": "Python 3"
    },
    "language_info": {
      "name": "python"
    }
  },
  "cells": [
    {
      "cell_type": "markdown",
      "metadata": {
        "id": "view-in-github",
        "colab_type": "text"
      },
      "source": [
        "<a href=\"https://colab.research.google.com/github/KatjaSi/PCT/blob/main/PCT_demo.ipynb\" target=\"_parent\"><img src=\"https://colab.research.google.com/assets/colab-badge.svg\" alt=\"Open In Colab\"/></a>"
      ]
    },
    {
      "cell_type": "code",
      "execution_count": 1,
      "metadata": {
        "colab": {
          "base_uri": "https://localhost:8080/"
        },
        "id": "0Rr2zd3dWQd4",
        "outputId": "1f4a592e-4105-4d24-943b-a16ac83b70c9"
      },
      "outputs": [
        {
          "output_type": "stream",
          "name": "stdout",
          "text": [
            "Cloning into 'PCT'...\n",
            "remote: Enumerating objects: 108, done.\u001b[K\n",
            "remote: Counting objects: 100% (108/108), done.\u001b[K\n",
            "remote: Compressing objects: 100% (98/98), done.\u001b[K\n",
            "remote: Total 108 (delta 34), reused 20 (delta 3), pack-reused 0\u001b[K\n",
            "Receiving objects: 100% (108/108), 342.40 KiB | 3.14 MiB/s, done.\n",
            "Resolving deltas: 100% (34/34), done.\n"
          ]
        }
      ],
      "source": [
        "!git clone https://github.com/KatjaSi/PCT.git"
      ]
    },
    {
      "cell_type": "code",
      "source": [
        "cd PCT"
      ],
      "metadata": {
        "colab": {
          "base_uri": "https://localhost:8080/"
        },
        "id": "feLAg6t8d3pQ",
        "outputId": "e43c9b55-d05c-4d35-e7b6-ce8deb9a726c"
      },
      "execution_count": 2,
      "outputs": [
        {
          "output_type": "stream",
          "name": "stdout",
          "text": [
            "/content/PCT\n"
          ]
        }
      ]
    },
    {
      "cell_type": "code",
      "source": [
        "!python networks/cls/pct.py"
      ],
      "metadata": {
        "colab": {
          "base_uri": "https://localhost:8080/"
        },
        "id": "PnSEqDsnd6TT",
        "outputId": "1c08c3ae-cdfe-4023-f91a-f554a9f19ac5"
      },
      "execution_count": null,
      "outputs": [
        {
          "output_type": "stream",
          "name": "stdout",
          "text": [
            "[i 0824 12:15:36.779475 64 lock.py:85] Create lock file:/root/.cache/jittor/jt1.3.8/g++11.4.0/py3.10.12/Linux-5.15.109x4b/IntelRXeonRCPUx1c/jittor.lock\n",
            "[i 0824 12:15:36.800125 64 compiler.py:956] Jittor(1.3.8.5) src: /usr/local/lib/python3.10/dist-packages/jittor\n",
            "[i 0824 12:15:36.803016 64 compiler.py:957] g++ at /usr/bin/g++(11.4.0)\n",
            "[i 0824 12:15:36.803177 64 compiler.py:958] cache_path: /root/.cache/jittor/jt1.3.8/g++11.4.0/py3.10.12/Linux-5.15.109x4b/IntelRXeonRCPUx1c/default\n",
            "[i 0824 12:15:36.835526 64 __init__.py:411] Found nvcc(11.8.89) at /usr/local/cuda/bin/nvcc.\n",
            "[i 0824 12:15:36.853887 64 __init__.py:411] Found addr2line(2.38) at /usr/bin/addr2line.\n",
            "[i 0824 12:15:37.215738 64 compiler.py:1011] cuda key:cu11.8.89\n",
            "[i 0824 12:15:37.325874 64 compiler.py:34] Create cache dir: /root/.cache/jittor/jt1.3.8/g++11.4.0/py3.10.12/Linux-5.15.109x4b/IntelRXeonRCPUx1c/default/cu11.8.89\n",
            "[i 0824 12:15:37.326295 64 compiler.py:34] Create cache dir: /root/.cache/jittor/jt1.3.8/g++11.4.0/py3.10.12/Linux-5.15.109x4b/IntelRXeonRCPUx1c/default/cu11.8.89/jit\n",
            "[i 0824 12:15:37.326513 64 compiler.py:34] Create cache dir: /root/.cache/jittor/jt1.3.8/g++11.4.0/py3.10.12/Linux-5.15.109x4b/IntelRXeonRCPUx1c/default/cu11.8.89/obj_files\n",
            "[i 0824 12:15:37.326702 64 compiler.py:34] Create cache dir: /root/.cache/jittor/jt1.3.8/g++11.4.0/py3.10.12/Linux-5.15.109x4b/IntelRXeonRCPUx1c/default/cu11.8.89/gen\n",
            "[i 0824 12:15:37.326876 64 compiler.py:34] Create cache dir: /root/.cache/jittor/jt1.3.8/g++11.4.0/py3.10.12/Linux-5.15.109x4b/IntelRXeonRCPUx1c/default/cu11.8.89/tmp\n",
            "[i 0824 12:15:37.329486 64 compiler.py:34] Create cache dir: /root/.cache/jittor/jt1.3.8/g++11.4.0/py3.10.12/Linux-5.15.109x4b/IntelRXeonRCPUx1c/default/cu11.8.89/checkpoints\n",
            "\u001b[38;5;2m[i 0824 12:16:15.265242 28 __init__.py:227] Total mem: 12.68GB, using 4 procs for compiling.\u001b[m\n"
          ]
        }
      ]
    },
    {
      "cell_type": "code",
      "source": [
        "pip install jittor"
      ],
      "metadata": {
        "colab": {
          "base_uri": "https://localhost:8080/"
        },
        "id": "zXWgXO3heFUi",
        "outputId": "88d9ae2f-bd18-4a27-d349-5b25eaa8894f"
      },
      "execution_count": 4,
      "outputs": [
        {
          "output_type": "stream",
          "name": "stdout",
          "text": [
            "Collecting jittor\n",
            "  Downloading jittor-1.3.8.5.tar.gz (1.8 MB)\n",
            "\u001b[2K     \u001b[90m━━━━━━━━━━━━━━━━━━━━━━━━━━━━━━━━━━━━━━━━\u001b[0m \u001b[32m1.8/1.8 MB\u001b[0m \u001b[31m10.1 MB/s\u001b[0m eta \u001b[36m0:00:00\u001b[0m\n",
            "\u001b[?25h  Preparing metadata (setup.py) ... \u001b[?25l\u001b[?25hdone\n",
            "Requirement already satisfied: numpy in /usr/local/lib/python3.10/dist-packages (from jittor) (1.23.5)\n",
            "Requirement already satisfied: tqdm in /usr/local/lib/python3.10/dist-packages (from jittor) (4.66.1)\n",
            "Requirement already satisfied: pillow in /usr/local/lib/python3.10/dist-packages (from jittor) (9.4.0)\n",
            "Requirement already satisfied: astunparse in /usr/local/lib/python3.10/dist-packages (from jittor) (1.6.3)\n",
            "Requirement already satisfied: wheel<1.0,>=0.23.0 in /usr/local/lib/python3.10/dist-packages (from astunparse->jittor) (0.41.1)\n",
            "Requirement already satisfied: six<2.0,>=1.6.1 in /usr/local/lib/python3.10/dist-packages (from astunparse->jittor) (1.16.0)\n",
            "Building wheels for collected packages: jittor\n",
            "  Building wheel for jittor (setup.py) ... \u001b[?25l\u001b[?25hdone\n",
            "  Created wheel for jittor: filename=jittor-1.3.8.5-py3-none-any.whl size=2136295 sha256=9b343f5653e3d8558eabed64ae571668635fd6bf884ba6caefd1719892a2b06b\n",
            "  Stored in directory: /root/.cache/pip/wheels/f2/5d/d9/f3ea0aef70c306ce2a499c9888261d1861f8b9b6f4017815e6\n",
            "Successfully built jittor\n",
            "Installing collected packages: jittor\n",
            "Successfully installed jittor-1.3.8.5\n"
          ]
        }
      ]
    }
  ]
}